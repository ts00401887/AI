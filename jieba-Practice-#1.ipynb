{
 "cells": [
  {
   "cell_type": "code",
   "execution_count": 22,
   "metadata": {
    "scrolled": false
   },
   "outputs": [
    {
     "name": "stderr",
     "output_type": "stream",
     "text": [
      "Building prefix dict from C:\\Users\\carol\\Python\\dictionary\\dict.txt.big.txt ...\n",
      "Loading model from cache C:\\Users\\carol\\AppData\\Local\\Temp\\jieba.uca49336268099ea0ab1434d7c46adc14.cache\n",
      "Loading model cost 1.372 seconds.\n",
      "Prefix dict has been built succesfully.\n"
     ]
    },
    {
     "name": "stdout",
     "output_type": "stream",
     "text": [
      "停用詞：？|有|怎麼辦|什麼\n",
      "預設模式且去除停用詞:房間|蟑螂|處理方法\n",
      "預設模式:房間|有|蟑螂|怎麼辦|？|有|什麼|處理方法|？\n",
      "全文模式:房間|有|蟑螂|怎麼|怎麼辦|||有|什麼|處理|處理方法|方法||\n",
      "搜索引擎:房間|有|蟑螂|怎麼|怎麼辦|？|有|什麼|處理|方法|處理方法|？\n"
     ]
    }
   ],
   "source": [
    "#encoding=utf-8\n",
    "import jieba\n",
    "\n",
    "# 設定繁體中文詞庫\n",
    "jieba.set_dictionary('dictionary/dict.txt.big.txt')\n",
    "\n",
    "#設定自定義的停用詞\n",
    "jieba.load_userdict('dictionary/user_dict.txt')\n",
    "\n",
    "jieba.add_word('處理方法')\n",
    "\n",
    "# 打開停用字詞彙\n",
    "with open('dictionary/stopword.txt', 'r', encoding='utf-8-sig') as file:\n",
    "    stops = file.read().split('\\n')  #將停用詞儲存在串列\n",
    "print(\"停用詞：\" + '|' . join(stops))\n",
    "\n",
    "\n",
    "sentence = \"房間有蟑螂怎麼辦？有什麼處理方法？\"\n",
    "# 預設模式斷詞\n",
    "breakword = jieba.cut(sentence, cut_all=False)\n",
    "final_words = []  #儲存最後的詞\n",
    "for word in breakword:\n",
    "    if word not in stops:\n",
    "        final_words.append(word)\n",
    "print(\"預設模式且去除停用詞:\" + '|' . join(final_words))\n",
    "\n",
    "breakword = jieba.cut(sentence, cut_all=False)\n",
    "print(\"預設模式:\" + '|' . join(breakword))\n",
    "\n",
    "# 全文模式斷詞\n",
    "breakword = jieba.cut(sentence, cut_all=True)\n",
    "print(\"全文模式:\" + '|' . join(breakword))\n",
    "\n",
    "# 搜索引擎模式斷詞\n",
    "breakword = jieba.cut_for_search(sentence)\n",
    "print(\"搜索引擎:\" + '|' . join(breakword))"
   ]
  },
  {
   "cell_type": "code",
   "execution_count": null,
   "metadata": {},
   "outputs": [],
   "source": []
  },
  {
   "cell_type": "code",
   "execution_count": null,
   "metadata": {},
   "outputs": [],
   "source": []
  },
  {
   "cell_type": "code",
   "execution_count": null,
   "metadata": {},
   "outputs": [],
   "source": []
  },
  {
   "cell_type": "code",
   "execution_count": null,
   "metadata": {},
   "outputs": [],
   "source": []
  }
 ],
 "metadata": {
  "kernelspec": {
   "display_name": "Python 3",
   "language": "python",
   "name": "python3"
  },
  "language_info": {
   "codemirror_mode": {
    "name": "ipython",
    "version": 3
   },
   "file_extension": ".py",
   "mimetype": "text/x-python",
   "name": "python",
   "nbconvert_exporter": "python",
   "pygments_lexer": "ipython3",
   "version": "3.7.3"
  }
 },
 "nbformat": 4,
 "nbformat_minor": 2
}
