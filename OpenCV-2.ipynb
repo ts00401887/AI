{
 "cells": [
  {
   "cell_type": "code",
   "execution_count": 3,
   "metadata": {},
   "outputs": [],
   "source": [
    "import numpy as np\n",
    "import cv2\n",
    "\n",
    "cap = cv2.VideoCapture(0)   #開啟視訊鏡頭\n",
    "\n",
    "while(True):\n",
    "    ret, frame = cap.read()  #讀取視訊鏡頭的資訊\n",
    "    cv2.imshow(\"frame\",frame)  #cv2顯示視訊鏡頭的資訊\n",
    "    if cv2.waitKey(5) == ord('q'):  # ord('q') 按鍵 q -->如果按下Q鍵\n",
    "        break  #跳出while迴圈\n",
    "        \n",
    "cap.release()  #關閉視訊鏡頭\n",
    "cv2.destroyAllWindows()  #關閉cv2所產生的視窗"
   ]
  },
  {
   "cell_type": "code",
   "execution_count": null,
   "metadata": {},
   "outputs": [],
   "source": []
  }
 ],
 "metadata": {
  "kernelspec": {
   "display_name": "Python 3",
   "language": "python",
   "name": "python3"
  },
  "language_info": {
   "codemirror_mode": {
    "name": "ipython",
    "version": 3
   },
   "file_extension": ".py",
   "mimetype": "text/x-python",
   "name": "python",
   "nbconvert_exporter": "python",
   "pygments_lexer": "ipython3",
   "version": "3.7.3"
  }
 },
 "nbformat": 4,
 "nbformat_minor": 2
}
