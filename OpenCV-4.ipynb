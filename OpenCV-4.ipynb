{
 "cells": [
  {
   "cell_type": "code",
   "execution_count": 6,
   "metadata": {},
   "outputs": [],
   "source": [
    "import cv2\n",
    "import numpy\n",
    "face_cascade = cv2.CascadeClassifier('haarcascade_frontalface_default.xml')\n",
    "\n",
    "img = cv2.imread('star1.jpg')\n",
    "gray = cv2.cvtColor(img, cv2.COLOR_BGR2GRAY)\n",
    "\n",
    "faces = face_cascade.detectMultiScale(gray,scaleFactor=1.08,minNeighbors=7,minSize=(32, 32))\n",
    "for (x, y, w , h) in faces:\n",
    "    # 方框  cv2.rectangle(影像, 頂點座標, 對向頂點座標, 顏色, 線條寬度)\n",
    "    cv2.rectangle(img, (x, y), (x + w, y + h), (0, 0, 255), 7)\n",
    "    # 圓圈  cv2.circle(影像, 圓心座標, 半徑, 顏色, 線條寬度)\n",
    "    cv2.circle(img,(x + int(w/2), y + int(h/2)), int(w/2), (0, 255, 255), 7)\n",
    "    \n",
    "    \n",
    "cv2.namedWindow('img', cv2.WINDOW_NORMAL)   #正常視窗大小\n",
    "cv2.imshow('img',img)            #秀出圖片\n",
    "cv2.imwrite(\"result.jpg\", img)   #保存圖片\n",
    "cv2.waitKey(0)      #等待按下任一按鍵\n",
    "cv2.destroyAllWindows()    #關閉視窗"
   ]
  },
  {
   "cell_type": "code",
   "execution_count": 4,
   "metadata": {},
   "outputs": [
    {
     "data": {
      "text/plain": [
       "array([[1046,  442,  241,  241],\n",
       "       [ 580,  237,  219,  219]], dtype=int32)"
      ]
     },
     "execution_count": 4,
     "metadata": {},
     "output_type": "execute_result"
    }
   ],
   "source": [
    "faces"
   ]
  },
  {
   "cell_type": "code",
   "execution_count": null,
   "metadata": {},
   "outputs": [],
   "source": []
  },
  {
   "cell_type": "code",
   "execution_count": null,
   "metadata": {},
   "outputs": [],
   "source": []
  },
  {
   "cell_type": "code",
   "execution_count": null,
   "metadata": {},
   "outputs": [],
   "source": []
  },
  {
   "cell_type": "code",
   "execution_count": null,
   "metadata": {},
   "outputs": [],
   "source": []
  },
  {
   "cell_type": "code",
   "execution_count": null,
   "metadata": {},
   "outputs": [],
   "source": []
  }
 ],
 "metadata": {
  "kernelspec": {
   "display_name": "Python 3",
   "language": "python",
   "name": "python3"
  },
  "language_info": {
   "codemirror_mode": {
    "name": "ipython",
    "version": 3
   },
   "file_extension": ".py",
   "mimetype": "text/x-python",
   "name": "python",
   "nbconvert_exporter": "python",
   "pygments_lexer": "ipython3",
   "version": "3.7.3"
  }
 },
 "nbformat": 4,
 "nbformat_minor": 2
}
