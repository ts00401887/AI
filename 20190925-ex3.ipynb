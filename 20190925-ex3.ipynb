{
 "cells": [
  {
   "cell_type": "code",
   "execution_count": 1,
   "metadata": {},
   "outputs": [
    {
     "name": "stdout",
     "output_type": "stream",
     "text": [
      "請輸入身高(cm):175\n",
      "請輸入體重(kg):80\n"
     ]
    }
   ],
   "source": [
    "BMI = 0\n",
    "height = int (input(\"請輸入身高(cm):\"))\n",
    "weight = int (input(\"請輸入體重(kg):\"))"
   ]
  },
  {
   "cell_type": "code",
   "execution_count": 2,
   "metadata": {},
   "outputs": [
    {
     "name": "stdout",
     "output_type": "stream",
     "text": [
      "BMI = 26.122449\n",
      "\n"
     ]
    }
   ],
   "source": [
    "BMI = (weight) / ((height/100)*(height/100))\n",
    "print (\"BMI = %f\\n\" % (BMI))"
   ]
  },
  {
   "cell_type": "code",
   "execution_count": 3,
   "metadata": {},
   "outputs": [
    {
     "name": "stdout",
     "output_type": "stream",
     "text": [
      "體重過重太胖了！\n"
     ]
    }
   ],
   "source": [
    "if BMI < 18.5:\n",
    "    print(\"你過瘦了！\")\n",
    "if BMI >= 18.5 and BMI <24:\n",
    "    print(\"體重標準\")\n",
    "if BMI >= 24:\n",
    "    print(\"體重過重太胖了！\")"
   ]
  }
 ],
 "metadata": {
  "kernelspec": {
   "display_name": "Python 3",
   "language": "python",
   "name": "python3"
  },
  "language_info": {
   "codemirror_mode": {
    "name": "ipython",
    "version": 3
   },
   "file_extension": ".py",
   "mimetype": "text/x-python",
   "name": "python",
   "nbconvert_exporter": "python",
   "pygments_lexer": "ipython3",
   "version": "3.7.3"
  }
 },
 "nbformat": 4,
 "nbformat_minor": 2
}
